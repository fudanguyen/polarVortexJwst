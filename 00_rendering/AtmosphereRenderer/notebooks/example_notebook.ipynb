{
 "cells": [
  {
   "cell_type": "markdown",
   "metadata": {},
   "source": [
    "# Atmosphere Renderer Example Notebook\n",
    "\n",
    "This notebook demonstrates how to use the AtmosphereRenderer library to generate and visualize atmospheric models. It includes loading configuration settings and running the rendering process."
   ]
  },
  {
   "cell_type": "code",
   "execution_count": null,
   "metadata": {},
   "outputs": [],
   "source": [
    "# Import necessary modules from the AtmosphereRenderer library\n",
    "from src.config.config_loader import ConfigLoader\n",
    "from src.rendering.atmosphere_generator import AtmosphereGenerator\n",
    "from src.rendering.visualization import Visualization\n",
    "\n",
    "# Load configuration settings\n",
    "config_loader = ConfigLoader('path/to/config.txt')  # Specify the path to your config file\n",
    "config = config_loader.load_config()\n",
    "\n",
    "# Initialize the atmosphere generator with the loaded configuration\n",
    "atmosphere_generator = AtmosphereGenerator(config)\n",
    "\n",
    "# Generate the atmospheric model\n",
    "atmospheric_model = atmosphere_generator.generate_model()\n",
    "\n",
    "# Visualize the generated atmospheric model\n",
    "visualization = Visualization(atmospheric_model)\n",
    "visualization.render()\n",
    "\n",
    "# Save the rendered frames\n",
    "visualization.save_frames('output/frames/')  # Specify the output directory for frames\n",
    "\n",
    "# Display the results\n",
    "visualization.show_results()"
   ]
  }
 ],
 "metadata": {
  "kernelspec": {
   "display_name": "Python 3",
   "language": "python",
   "name": "python3"
  },
  "language_info": {
   "codemirror_mode": {
    "name": "ipython",
    "version": 3
   },
   "file_extension": ".py",
   "mimetype": "text/x-python",
   "name": "python",
   "nbconvert_exporter": "python",
   "pygments_lexer": "ipython3",
   "version": "3.8.5"
  }
 },
 "nbformat": 4,
 "nbformat_minor": 4
}